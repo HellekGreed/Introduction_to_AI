{
 "cells": [
  {
   "cell_type": "code",
   "execution_count": 5,
   "metadata": {
    "scrolled": true
   },
   "outputs": [],
   "source": [
    "import pandas as pd\n",
    "import numpy as np\n",
    "import matplotlib.pyplot as plt\n",
    "import warnings\n",
    "import itertools\n",
    "from statsmodels.tsa.arima.model import ARIMA\n",
    "\n",
    "data = pd.read_csv('data.csv', parse_dates=['Date'], index_col='Date')\n",
    "warnings.filterwarnings(\"ignore\")\n",
    "\n"
   ]
  },
  {
   "cell_type": "code",
   "execution_count": 2,
   "metadata": {},
   "outputs": [
    {
     "name": "stdout",
     "output_type": "stream",
     "text": [
      "(1, 1, 2) 6947.369021481469\n"
     ]
    }
   ],
   "source": [
    "a = range(0, 10)\n",
    "b = c = range(0, 3)\n",
    "pdq = list(itertools.product(a, b, c))\n",
    "best_pdq = (0, 0, 0)\n",
    "best_aic = np.inf\n",
    "for params in pdq:\n",
    "  model_test = ARIMA(data, order=params)\n",
    "  result_test = model_test.fit()\n",
    "  if result_test.aic < best_aic:\n",
    "    best_pdq = params\n",
    "    best_aic = result_test.aic\n",
    "print(best_pdq, best_aic)\n"
   ]
  },
  {
   "cell_type": "code",
   "execution_count": 3,
   "metadata": {},
   "outputs": [
    {
     "name": "stdout",
     "output_type": "stream",
     "text": [
      "                               SARIMAX Results                                \n",
      "==============================================================================\n",
      "Dep. Variable:                  Value   No. Observations:                 1461\n",
      "Model:                 ARIMA(1, 1, 2)   Log Likelihood               -3469.685\n",
      "Date:                Tue, 26 Mar 2024   AIC                           6947.369\n",
      "Time:                        13:02:55   BIC                           6968.514\n",
      "Sample:                             0   HQIC                          6955.257\n",
      "                               - 1461                                         \n",
      "Covariance Type:                  opg                                         \n",
      "==============================================================================\n",
      "                 coef    std err          z      P>|z|      [0.025      0.975]\n",
      "------------------------------------------------------------------------------\n",
      "ar.L1         -0.9895      0.006   -166.475      0.000      -1.001      -0.978\n",
      "ma.L1          0.0063      0.024      0.267      0.790      -0.040       0.053\n",
      "ma.L2         -0.9934      0.024    -42.182      0.000      -1.040      -0.947\n",
      "sigma2         6.7585      0.341     19.792      0.000       6.089       7.428\n",
      "===================================================================================\n",
      "Ljung-Box (L1) (Q):                   1.11   Jarque-Bera (JB):               331.15\n",
      "Prob(Q):                              0.29   Prob(JB):                         0.00\n",
      "Heteroskedasticity (H):               0.67   Skew:                             1.15\n",
      "Prob(H) (two-sided):                  0.00   Kurtosis:                         3.37\n",
      "===================================================================================\n",
      "\n",
      "Warnings:\n",
      "[1] Covariance matrix calculated using the outer product of gradients (complex-step).\n"
     ]
    }
   ],
   "source": [
    "model = ARIMA(data['Value'], order=(1, 1, 2))\n",
    "model_fit = model.fit()\n",
    "print(model_fit.summary())"
   ]
  },
  {
   "cell_type": "code",
   "execution_count": 4,
   "metadata": {},
   "outputs": [
    {
     "name": "stdout",
     "output_type": "stream",
     "text": [
      "1461    2.185893\n",
      "1462    2.209947\n",
      "1463    2.186146\n",
      "1464    2.209697\n",
      "1465    2.186393\n",
      "1466    2.209453\n",
      "1467    2.186635\n",
      "1468    2.209213\n",
      "1469    2.186871\n",
      "1470    2.208979\n",
      "Name: predicted_mean, dtype: float64\n"
     ]
    }
   ],
   "source": [
    "forecast = model_fit.forecast(steps=10)\n",
    "print(forecast)"
   ]
  },
  {
   "cell_type": "code",
   "execution_count": null,
   "metadata": {},
   "outputs": [],
   "source": [
    "Отчет:\n",
    "    После успешного обучения модели, на основе анализа временого ряда можно придти к выводу что данная ситуация будет сохранятся"
   ]
  }
 ],
 "metadata": {
  "kernelspec": {
   "display_name": "Python 3 (ipykernel)",
   "language": "python",
   "name": "python3"
  },
  "language_info": {
   "codemirror_mode": {
    "name": "ipython",
    "version": 3
   },
   "file_extension": ".py",
   "mimetype": "text/x-python",
   "name": "python",
   "nbconvert_exporter": "python",
   "pygments_lexer": "ipython3",
   "version": "3.9.13"
  }
 },
 "nbformat": 4,
 "nbformat_minor": 2
}
